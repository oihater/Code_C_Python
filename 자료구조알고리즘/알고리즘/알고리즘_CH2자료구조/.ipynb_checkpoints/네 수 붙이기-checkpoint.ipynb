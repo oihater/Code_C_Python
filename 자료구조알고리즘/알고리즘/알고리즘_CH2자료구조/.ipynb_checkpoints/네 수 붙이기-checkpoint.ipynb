{
 "cells": [
  {
   "cell_type": "code",
   "execution_count": 13,
   "metadata": {},
   "outputs": [
    {
     "name": "stdout",
     "output_type": "stream",
     "text": [
      "5 3\n"
     ]
    }
   ],
   "source": [
    "import sys\n",
    "#요세푸스\n",
    "que = []\n",
    "jose = []\n",
    "N, K = map(int, input().split())\n",
    "for i in range(N):\n",
    "    que.append(i+1)\n"
   ]
  },
  {
   "cell_type": "code",
   "execution_count": null,
   "metadata": {},
   "outputs": [],
   "source": [
    "index = K-1\n",
    "trial = False\n",
    "while trial == False:\n",
    "    \n",
    "    if index < len(que):\n",
    "        num = que.pop(index)\n",
    "        jose.append(num)\n",
    "        index += K\n",
    "    else :\n",
    "        while index > len(que):\n",
    "            num = index - len(que) -1\n",
    "        jose.append(num)\n",
    "        index += K\n",
    "    if not que:\n",
    "        trial = True"
   ]
  },
  {
   "cell_type": "code",
   "execution_count": 20,
   "metadata": {},
   "outputs": [],
   "source": []
  },
  {
   "cell_type": "code",
   "execution_count": null,
   "metadata": {},
   "outputs": [],
   "source": []
  }
 ],
 "metadata": {
  "kernelspec": {
   "display_name": "Python 3",
   "language": "python",
   "name": "python3"
  },
  "language_info": {
   "codemirror_mode": {
    "name": "ipython",
    "version": 3
   },
   "file_extension": ".py",
   "mimetype": "text/x-python",
   "name": "python",
   "nbconvert_exporter": "python",
   "pygments_lexer": "ipython3",
   "version": "3.7.4"
  }
 },
 "nbformat": 4,
 "nbformat_minor": 2
}
